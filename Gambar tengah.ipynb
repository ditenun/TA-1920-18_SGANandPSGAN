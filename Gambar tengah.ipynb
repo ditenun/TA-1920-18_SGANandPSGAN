import cv2
import numpy as np
import os

path = "512"

for root, directories, files in os.walk(path):
  for name in files:
    try:
      input_filename = name[:-4]
      directory = os.path.join(root, name)

      img = cv2.imread(directory)
      height, width, channels = img.shape

      n_height = 512
      n_width = 512

      init_h = int((height-n_height)/2)
      init_w = int((width-n_width)/2)

      res = []
      for i in range (init_h, init_h+n_height):
        res.append(img[i][init_w:init_w+n_width:])

      output_filename = input_filename + "_" + str(n_height) + "x" + str(n_width)
      filename = "512middle/"+output_filename+".jpg"
      res = np.array(res)
      cv2.imwrite(filename, res)
    except:
      pass
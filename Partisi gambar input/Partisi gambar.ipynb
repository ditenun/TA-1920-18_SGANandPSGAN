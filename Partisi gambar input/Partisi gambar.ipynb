import cv2
import numpy as np

file = "sadum_512"
directory = "data/"+file+".jpg"

img = cv2.imread(directory)
height, width, channels = img.shape

midheight = int(height/2)
midwidth = int(width/2)

part12 = img[:midheight:]
part34 = img[midheight::]

part1 = []
part2 = []
for el in part12:
  part1.append(el[:midwidth:])
  part2.append(el[midwidth::])

part3 = []
part4 = []
for el in part34:
  part3.append(el[:midwidth:])
  part4.append(el[midwidth::])

part1234 = []
part1234.append(part1)
part1234.append(part2)
part1234.append(part3)
part1234.append(part4)

num = 1
for el in part1234:
  filename = file+"/"+file+"_part"+str(num)+".jpg"
  el = np.array(el)
  cv2.imwrite(filename, el)
  num+=1
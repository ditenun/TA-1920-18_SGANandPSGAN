import cv2
import numpy as np
import os

path = "par1"
pos = 1
for root, directories, files in os.walk(path):
  for name in files:
    try:
      input_filename = name[:-4]
      directory = os.path.join(root, name)

      img = cv2.imread(directory)
      
      if pos == 1:
        part1 = img
        part2 = cv2.flip(img, 1)
        part3 = cv2.flip(img, 0)
        part4 = cv2.flip(img, -1)
      elif pos == 2:
        part1 = cv2.flip(img, 1)
        part2 = img
        part3 = cv2.flip(img, -1)
        part4 = cv2.flip(img, 0)
      elif pos == 3:
        part1 = cv2.flip(img, 0)
        part2 = cv2.flip(img, -1)
        part3 = img
        part4 = cv2.flip(img, 1)
      elif pos == 4:
        part1 = cv2.flip(img, -1)
        part2 = cv2.flip(img, 0)
        part3 = cv2.flip(img, 1)
        part4 = img

      part12 = np.concatenate((part1, part2), axis=1)
      part34 = np.concatenate((part3, part4), axis=1)
      res = np.concatenate((part12, part34), axis=0)

      output_filename = input_filename + "_mirrored" + str(pos)
      filename = "respar1/"+output_filename+".jpg"
      res = np.array(res)
      cv2.imwrite(filename, res)
    except:
      pass
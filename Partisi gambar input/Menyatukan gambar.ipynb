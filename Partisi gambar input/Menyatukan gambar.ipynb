import cv2
import numpy as np
import os 

lala = "ss"

directory = lala+"/"
dir_list = os.listdir(directory)
dir_list.sort()
dir1234 = []

for it in dir_list:
  dir1234.append(directory+it)

part1 = cv2.imread(dir1234[0])
part2 = cv2.imread(dir1234[1])
part3 = cv2.imread(dir1234[2])
part4 = cv2.imread(dir1234[3])

part12 = np.concatenate((part1, part2), axis=1)
part34 = np.concatenate((part3, part4), axis=1)
img = np.concatenate((part12, part34), axis=0)

filename = "RES 4 IS/"+ lala+ ".jpg"
cv2.imwrite(filename, img)
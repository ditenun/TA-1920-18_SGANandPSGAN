import cv2
import numpy as np

file = "sadum_512"
directory = "data/"+file+".jpg"

img = cv2.imread(directory)
height, width, channels = img.shape

piksel = 256

midheight = int(height/2)
midwidth = int(width/2)

part12 = img[:midheight:]
part34 = img[midheight::]

part1 = []
part2 = []
for el in part12:
  part1.append(el[:midwidth:])
  part2.append(el[midwidth::])

part3 = []
part4 = []
for el in part34:
  part3.append(el[:midwidth:])
  part4.append(el[midwidth::])

part5 = []
quadwidth=int(midwidth/2)
for i in range(len(part1)):
  el = []
  el.extend(part1[i][quadwidth::])
  el.extend(part2[i][:quadwidth:])
  part5.append(el)

part6 = []
for i in range(len(part3)):
  el = []
  el.extend(part3[i][quadwidth::])
  el.extend(part4[i][:quadwidth:])
  part6.append(el)

part7 = []
quadwidth3=int(midwidth+(midwidth/2))
part7.extend(part1)
part7.extend(part3)
part7 = part7[quadwidth:quadwidth3:]

part8 = []
part8.extend(part2)
part8.extend(part4)
part8 = part8[quadwidth:quadwidth3:]

part9 = []
part9.extend(part5)
part9.extend(part6)
part9 = part9[quadwidth:quadwidth3:]

all_part = []
all_part.append(part1)
all_part.append(part2)
all_part.append(part3)
all_part.append(part4)
all_part.append(part5)
all_part.append(part6)
all_part.append(part7)
all_part.append(part8)
all_part.append(part9)

num = 1
for el in all_part:
  filename = file+"/"+file+"_part"+str(num)+".jpg"
  el = np.array(el)
  cv2.imwrite(filename, el)
  num+=1
import numpy as np
from numpy import asarray
from numpy import expand_dims
from numpy import log
from numpy import mean
from numpy import exp

def calculate_inception_score(p_yx, eps=1E-16):
	p_y = expand_dims(p_yx.mean(axis=0), 0)
	kl_d = p_yx * (log(p_yx + eps) - log(p_y + eps))
	sum_kl_d = kl_d.sum(axis=1)
	avg_kl_d = mean(sum_kl_d)
	is_score = exp(avg_kl_d)
	return is_score

def inception_score_mod(img, n):
	w, h = img.shape[:2]
	score = 0
	div = int((h+n-1)/n) + int((w+n-1)/n)
	for i in range (0, h, n):
		for j in range (0, w, n):
			res = []
			for k in range (i, i+n):
				if k==h:
					break
				res.append(img[k][j:j+n:])
			res = np.array(res)
			score += calculate_inception_score(res)
	score = score/div
	return score